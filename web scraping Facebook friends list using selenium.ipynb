{
 "cells": [
  {
   "cell_type": "code",
   "execution_count": 1,
   "metadata": {},
   "outputs": [],
   "source": [
    "import selenium\n",
    "from selenium import webdriver\n",
    "from selenium.webdriver.common.keys import Keys\n",
    "from selenium.webdriver.common.by import By\n",
    "from time import sleep\n",
    "import getpass"
   ]
  },
  {
   "cell_type": "code",
   "execution_count": 2,
   "metadata": {},
   "outputs": [
    {
     "name": "stderr",
     "output_type": "stream",
     "text": [
      "C:\\Users\\visan\\Anaconda3\\lib\\site-packages\\ipykernel_launcher.py:1: DeprecationWarning: executable_path has been deprecated, please pass in a Service object\n",
      "  \"\"\"Entry point for launching an IPython kernel.\n"
     ]
    }
   ],
   "source": [
    "driver =webdriver.Chrome('C:/Users/visan/Downloads/chromedriver_win32/chromedriver.exe')\n",
    "driver.get('https://www.facebook.com/')\n",
    "driver.maximize_window()"
   ]
  },
  {
   "cell_type": "code",
   "execution_count": 3,
   "metadata": {},
   "outputs": [
    {
     "name": "stdout",
     "output_type": "stream",
     "text": [
      "········\n"
     ]
    }
   ],
   "source": [
    "user_id='adventurouslife57@gmail.com'\n",
    "my_password=getpass.getpass()"
   ]
  },
  {
   "cell_type": "code",
   "execution_count": 4,
   "metadata": {},
   "outputs": [],
   "source": [
    "user_name=driver.find_element(By.XPATH,\"//input[@type='text']\")\n",
    "user_name.send_keys(user_id)"
   ]
  },
  {
   "cell_type": "code",
   "execution_count": 5,
   "metadata": {},
   "outputs": [],
   "source": [
    "password=driver.find_element(By.XPATH,\"//input[@type='password']\")\n",
    "password.send_keys(my_password)"
   ]
  },
  {
   "cell_type": "code",
   "execution_count": 6,
   "metadata": {},
   "outputs": [],
   "source": [
    "log_in_button=driver.find_element(By.XPATH,\"//button[@name='login']\")\n",
    "log_in_button.click()\n",
    "sleep(5) # waiting time is 5 seconds so that when the page loads it can wait for few seconds\n",
    "# this time it may not required but when we run the whole code together in a single cell#\n",
    "# we might need this one. "
   ]
  },
  {
   "cell_type": "markdown",
   "metadata": {},
   "source": [
    "### Now we entered into the Facebook homepage.\n",
    "Next task is to enter inside the profile page."
   ]
  },
  {
   "cell_type": "code",
   "execution_count": 7,
   "metadata": {},
   "outputs": [],
   "source": [
    "my_profile=driver.find_element(By.XPATH,\"//span[text()='ŠÃn Dhya Evening']\")\n",
    "my_profile.click()\n",
    "sleep(5)\n"
   ]
  },
  {
   "cell_type": "code",
   "execution_count": 9,
   "metadata": {},
   "outputs": [],
   "source": [
    "Friendstab=driver.find_element(By.XPATH,\"//span[text()='Friends']\")\n",
    "Friendstab.click()\n",
    "sleep(3)"
   ]
  },
  {
   "cell_type": "markdown",
   "metadata": {},
   "source": [
    "### In order to fetch one friend from friendlist:"
   ]
  },
  {
   "cell_type": "code",
   "execution_count": 10,
   "metadata": {},
   "outputs": [
    {
     "data": {
      "text/plain": [
       "'SauJanya GauTam\\n126 mutual friends'"
      ]
     },
     "execution_count": 10,
     "metadata": {},
     "output_type": "execute_result"
    }
   ],
   "source": [
    "friendsName=driver.find_element(By.XPATH,\"//div[@class='cgu29s5g r227ecj6']\")\n",
    "friendsName.text"
   ]
  },
  {
   "cell_type": "markdown",
   "metadata": {},
   "source": [
    "### In order to fetch multiple friends:-"
   ]
  },
  {
   "cell_type": "code",
   "execution_count": 11,
   "metadata": {},
   "outputs": [
    {
     "name": "stdout",
     "output_type": "stream",
     "text": [
      "SauJanya GauTam\n",
      "126 mutual friends\n",
      "Amrit Khadka\n",
      "15 mutual friends\n",
      "Kabita Adhikari Regmi\n",
      "15 mutual friends\n",
      "Priyanka Acharya\n",
      "63 mutual friends\n",
      "Sagar Gurung Tamu\n",
      "35 mutual friends\n",
      "Sameeka Chaulagain\n",
      "NASA International College\n",
      "Bishal Barai\n",
      "CQUniversity Australia\n",
      "Radhika Yadav\n",
      "2 mutual friends\n",
      "Buddhi Gautam\n",
      "158 mutual friends\n",
      "Sonisha Gautam\n",
      "97 mutual friends\n",
      "श्रद्धा ढकाल\n",
      "89 mutual friends\n",
      "Maya Gautam\n",
      "44 mutual friends\n",
      "Laxmi Gautam\n",
      "149 mutual friends\n",
      "Anju Ghimire\n",
      "50 mutual friends\n",
      "चालिसे महेश\n",
      "44 mutual friends\n",
      "Muna Gautam\n",
      "77 mutual friends\n"
     ]
    }
   ],
   "source": [
    "friendsName=driver.find_elements(By.XPATH,\"//div[@class='cgu29s5g r227ecj6']\")\n",
    "for f in friendsName:\n",
    "    print(f.text)"
   ]
  },
  {
   "cell_type": "markdown",
   "metadata": {},
   "source": [
    "### We need to fetch more friends"
   ]
  },
  {
   "cell_type": "code",
   "execution_count": 12,
   "metadata": {},
   "outputs": [
    {
     "data": {
      "text/plain": [
       "{'Amrit Khadka\\n15 mutual friends',\n",
       " 'Anju Ghimire\\n50 mutual friends',\n",
       " 'Bishal Barai\\nCQUniversity Australia',\n",
       " 'Buddhi Gautam\\n158 mutual friends',\n",
       " 'Kabita Adhikari Regmi\\n15 mutual friends',\n",
       " 'Laxmi Gautam\\n149 mutual friends',\n",
       " 'Maya Gautam\\n44 mutual friends',\n",
       " 'Muna Gautam\\n77 mutual friends',\n",
       " 'Priyanka Acharya\\n63 mutual friends',\n",
       " 'Radhika Yadav\\n2 mutual friends',\n",
       " 'Sagar Gurung Tamu\\n35 mutual friends',\n",
       " 'Sameeka Chaulagain\\nNASA International College',\n",
       " 'SauJanya GauTam\\n126 mutual friends',\n",
       " 'Sonisha Gautam\\n97 mutual friends',\n",
       " 'चालिसे महेश\\n44 mutual friends',\n",
       " 'श्रद्धा ढकाल\\n89 mutual friends'}"
      ]
     },
     "execution_count": 12,
     "metadata": {},
     "output_type": "execute_result"
    }
   ],
   "source": [
    "friendsSet=set()\n",
    "friendsName=driver.find_elements(By.XPATH,\"//div[@class='cgu29s5g r227ecj6']\")\n",
    "for f in friendsName:\n",
    "    friendsSet.add(f.text)\n",
    "friendsSet"
   ]
  },
  {
   "cell_type": "markdown",
   "metadata": {},
   "source": [
    "### Next thing is we need to scroll down the friend list page. in order to do that we have a javascript as:"
   ]
  },
  {
   "cell_type": "code",
   "execution_count": 30,
   "metadata": {},
   "outputs": [],
   "source": [
    "#driver.execute_script('window.scrollTo(0,document.body.scrollHeight);')"
   ]
  },
  {
   "cell_type": "code",
   "execution_count": 13,
   "metadata": {},
   "outputs": [],
   "source": [
    "friendsSet=set()\n",
    "friendsName=driver.find_elements(By.XPATH,\"//div[@class='cgu29s5g r227ecj6']\")\n",
    "\n",
    "while True:\n",
    "    for f in friendsName:\n",
    "        friendsSet.add(f.text)\n",
    "    driver.execute_script('window.scrollTo(0,document.body.scrollHeight);')\n",
    "    friendsName=driver.find_elements(By.XPATH,\"//div[@class='cgu29s5g r227ecj6']\")# what we do here is\n",
    "    #we are scrolling down and with the help of friends tag we are storing values in friendsName.\n",
    "    sleep(5)\n",
    "    # Since the friendname list will be a lengthy one so, I will fetch only some friends.\n",
    "    if len(friendsSet)>40:\n",
    "        break"
   ]
  },
  {
   "cell_type": "code",
   "execution_count": 14,
   "metadata": {},
   "outputs": [
    {
     "data": {
      "text/plain": [
       "48"
      ]
     },
     "execution_count": 14,
     "metadata": {},
     "output_type": "execute_result"
    }
   ],
   "source": [
    "len(friendsSet)"
   ]
  },
  {
   "cell_type": "code",
   "execution_count": 15,
   "metadata": {},
   "outputs": [
    {
     "name": "stderr",
     "output_type": "stream",
     "text": [
      "C:\\Users\\visan\\Anaconda3\\lib\\site-packages\\pandas\\compat\\_optional.py:138: UserWarning: Pandas requires version '2.7.0' or newer of 'numexpr' (version '2.6.8' currently installed).\n",
      "  warnings.warn(msg, UserWarning)\n"
     ]
    }
   ],
   "source": [
    "import pandas as pd"
   ]
  },
  {
   "cell_type": "code",
   "execution_count": 16,
   "metadata": {},
   "outputs": [],
   "source": [
    "df=pd.DataFrame(friendsSet,columns=['name'])"
   ]
  },
  {
   "cell_type": "code",
   "execution_count": 19,
   "metadata": {},
   "outputs": [
    {
     "data": {
      "text/html": [
       "<div>\n",
       "<style scoped>\n",
       "    .dataframe tbody tr th:only-of-type {\n",
       "        vertical-align: middle;\n",
       "    }\n",
       "\n",
       "    .dataframe tbody tr th {\n",
       "        vertical-align: top;\n",
       "    }\n",
       "\n",
       "    .dataframe thead th {\n",
       "        text-align: right;\n",
       "    }\n",
       "</style>\n",
       "<table border=\"1\" class=\"dataframe\">\n",
       "  <thead>\n",
       "    <tr style=\"text-align: right;\">\n",
       "      <th></th>\n",
       "      <th>name</th>\n",
       "    </tr>\n",
       "  </thead>\n",
       "  <tbody>\n",
       "    <tr>\n",
       "      <th>0</th>\n",
       "      <td>Devi Adhikari\\n49 mutual friends</td>\n",
       "    </tr>\n",
       "    <tr>\n",
       "      <th>1</th>\n",
       "      <td>Maya Gautam\\n44 mutual friends</td>\n",
       "    </tr>\n",
       "    <tr>\n",
       "      <th>2</th>\n",
       "      <td>Kalpana Paudel\\n77 mutual friends</td>\n",
       "    </tr>\n",
       "    <tr>\n",
       "      <th>3</th>\n",
       "      <td>Ruja Subedi\\n38 mutual friends</td>\n",
       "    </tr>\n",
       "    <tr>\n",
       "      <th>4</th>\n",
       "      <td>Buddhi Gautam\\n158 mutual friends</td>\n",
       "    </tr>\n",
       "  </tbody>\n",
       "</table>\n",
       "</div>"
      ],
      "text/plain": [
       "                                name\n",
       "0   Devi Adhikari\\n49 mutual friends\n",
       "1     Maya Gautam\\n44 mutual friends\n",
       "2  Kalpana Paudel\\n77 mutual friends\n",
       "3     Ruja Subedi\\n38 mutual friends\n",
       "4  Buddhi Gautam\\n158 mutual friends"
      ]
     },
     "execution_count": 19,
     "metadata": {},
     "output_type": "execute_result"
    }
   ],
   "source": [
    "df.head()"
   ]
  },
  {
   "cell_type": "code",
   "execution_count": 21,
   "metadata": {},
   "outputs": [
    {
     "data": {
      "text/plain": [
       "0     [Devi Adhikari, 49 mutual friends]\n",
       "1       [Maya Gautam, 44 mutual friends]\n",
       "2    [Kalpana Paudel, 77 mutual friends]\n",
       "3       [Ruja Subedi, 38 mutual friends]\n",
       "4    [Buddhi Gautam, 158 mutual friends]\n",
       "Name: name, dtype: object"
      ]
     },
     "execution_count": 21,
     "metadata": {},
     "output_type": "execute_result"
    }
   ],
   "source": [
    "# we will convert series into string and then split it. \\n means new line\n",
    "df['name'].str.split('\\n').head()"
   ]
  },
  {
   "cell_type": "code",
   "execution_count": 22,
   "metadata": {},
   "outputs": [
    {
     "data": {
      "text/html": [
       "<div>\n",
       "<style scoped>\n",
       "    .dataframe tbody tr th:only-of-type {\n",
       "        vertical-align: middle;\n",
       "    }\n",
       "\n",
       "    .dataframe tbody tr th {\n",
       "        vertical-align: top;\n",
       "    }\n",
       "\n",
       "    .dataframe thead th {\n",
       "        text-align: right;\n",
       "    }\n",
       "</style>\n",
       "<table border=\"1\" class=\"dataframe\">\n",
       "  <thead>\n",
       "    <tr style=\"text-align: right;\">\n",
       "      <th></th>\n",
       "      <th>0</th>\n",
       "      <th>1</th>\n",
       "    </tr>\n",
       "  </thead>\n",
       "  <tbody>\n",
       "    <tr>\n",
       "      <th>0</th>\n",
       "      <td>Devi Adhikari</td>\n",
       "      <td>49 mutual friends</td>\n",
       "    </tr>\n",
       "    <tr>\n",
       "      <th>1</th>\n",
       "      <td>Maya Gautam</td>\n",
       "      <td>44 mutual friends</td>\n",
       "    </tr>\n",
       "    <tr>\n",
       "      <th>2</th>\n",
       "      <td>Kalpana Paudel</td>\n",
       "      <td>77 mutual friends</td>\n",
       "    </tr>\n",
       "    <tr>\n",
       "      <th>3</th>\n",
       "      <td>Ruja Subedi</td>\n",
       "      <td>38 mutual friends</td>\n",
       "    </tr>\n",
       "    <tr>\n",
       "      <th>4</th>\n",
       "      <td>Buddhi Gautam</td>\n",
       "      <td>158 mutual friends</td>\n",
       "    </tr>\n",
       "  </tbody>\n",
       "</table>\n",
       "</div>"
      ],
      "text/plain": [
       "                0                   1\n",
       "0   Devi Adhikari   49 mutual friends\n",
       "1     Maya Gautam   44 mutual friends\n",
       "2  Kalpana Paudel   77 mutual friends\n",
       "3     Ruja Subedi   38 mutual friends\n",
       "4   Buddhi Gautam  158 mutual friends"
      ]
     },
     "execution_count": 22,
     "metadata": {},
     "output_type": "execute_result"
    }
   ],
   "source": [
    "df['name'].str.split('\\n',expand=True).head()"
   ]
  },
  {
   "cell_type": "code",
   "execution_count": 23,
   "metadata": {},
   "outputs": [
    {
     "data": {
      "text/html": [
       "<div>\n",
       "<style scoped>\n",
       "    .dataframe tbody tr th:only-of-type {\n",
       "        vertical-align: middle;\n",
       "    }\n",
       "\n",
       "    .dataframe tbody tr th {\n",
       "        vertical-align: top;\n",
       "    }\n",
       "\n",
       "    .dataframe thead th {\n",
       "        text-align: right;\n",
       "    }\n",
       "</style>\n",
       "<table border=\"1\" class=\"dataframe\">\n",
       "  <thead>\n",
       "    <tr style=\"text-align: right;\">\n",
       "      <th></th>\n",
       "      <th>0</th>\n",
       "      <th>1</th>\n",
       "    </tr>\n",
       "  </thead>\n",
       "  <tbody>\n",
       "    <tr>\n",
       "      <th>0</th>\n",
       "      <td>Devi Adhikari</td>\n",
       "      <td>49 mutual friends</td>\n",
       "    </tr>\n",
       "    <tr>\n",
       "      <th>1</th>\n",
       "      <td>Maya Gautam</td>\n",
       "      <td>44 mutual friends</td>\n",
       "    </tr>\n",
       "    <tr>\n",
       "      <th>2</th>\n",
       "      <td>Kalpana Paudel</td>\n",
       "      <td>77 mutual friends</td>\n",
       "    </tr>\n",
       "    <tr>\n",
       "      <th>3</th>\n",
       "      <td>Ruja Subedi</td>\n",
       "      <td>38 mutual friends</td>\n",
       "    </tr>\n",
       "    <tr>\n",
       "      <th>4</th>\n",
       "      <td>Buddhi Gautam</td>\n",
       "      <td>158 mutual friends</td>\n",
       "    </tr>\n",
       "  </tbody>\n",
       "</table>\n",
       "</div>"
      ],
      "text/plain": [
       "                0                   1\n",
       "0   Devi Adhikari   49 mutual friends\n",
       "1     Maya Gautam   44 mutual friends\n",
       "2  Kalpana Paudel   77 mutual friends\n",
       "3     Ruja Subedi   38 mutual friends\n",
       "4   Buddhi Gautam  158 mutual friends"
      ]
     },
     "execution_count": 23,
     "metadata": {},
     "output_type": "execute_result"
    }
   ],
   "source": [
    "df_new=df['name'].str.split('\\n',expand=True)\n",
    "df_new.head()"
   ]
  },
  {
   "cell_type": "code",
   "execution_count": 28,
   "metadata": {},
   "outputs": [],
   "source": [
    "df_new[['name','mutual_friends_count']]=df['name'].str.split('\\n',expand=True)\n",
    "df_final=df_new[['name','mutual_friends_count']]"
   ]
  },
  {
   "cell_type": "code",
   "execution_count": 29,
   "metadata": {},
   "outputs": [
    {
     "data": {
      "text/html": [
       "<div>\n",
       "<style scoped>\n",
       "    .dataframe tbody tr th:only-of-type {\n",
       "        vertical-align: middle;\n",
       "    }\n",
       "\n",
       "    .dataframe tbody tr th {\n",
       "        vertical-align: top;\n",
       "    }\n",
       "\n",
       "    .dataframe thead th {\n",
       "        text-align: right;\n",
       "    }\n",
       "</style>\n",
       "<table border=\"1\" class=\"dataframe\">\n",
       "  <thead>\n",
       "    <tr style=\"text-align: right;\">\n",
       "      <th></th>\n",
       "      <th>name</th>\n",
       "      <th>mutual_friends_count</th>\n",
       "    </tr>\n",
       "  </thead>\n",
       "  <tbody>\n",
       "    <tr>\n",
       "      <th>0</th>\n",
       "      <td>Devi Adhikari</td>\n",
       "      <td>49 mutual friends</td>\n",
       "    </tr>\n",
       "    <tr>\n",
       "      <th>1</th>\n",
       "      <td>Maya Gautam</td>\n",
       "      <td>44 mutual friends</td>\n",
       "    </tr>\n",
       "    <tr>\n",
       "      <th>2</th>\n",
       "      <td>Kalpana Paudel</td>\n",
       "      <td>77 mutual friends</td>\n",
       "    </tr>\n",
       "    <tr>\n",
       "      <th>3</th>\n",
       "      <td>Ruja Subedi</td>\n",
       "      <td>38 mutual friends</td>\n",
       "    </tr>\n",
       "    <tr>\n",
       "      <th>4</th>\n",
       "      <td>Buddhi Gautam</td>\n",
       "      <td>158 mutual friends</td>\n",
       "    </tr>\n",
       "  </tbody>\n",
       "</table>\n",
       "</div>"
      ],
      "text/plain": [
       "             name mutual_friends_count\n",
       "0   Devi Adhikari    49 mutual friends\n",
       "1     Maya Gautam    44 mutual friends\n",
       "2  Kalpana Paudel    77 mutual friends\n",
       "3     Ruja Subedi    38 mutual friends\n",
       "4   Buddhi Gautam   158 mutual friends"
      ]
     },
     "execution_count": 29,
     "metadata": {},
     "output_type": "execute_result"
    }
   ],
   "source": [
    "df_final.head()"
   ]
  },
  {
   "cell_type": "code",
   "execution_count": 30,
   "metadata": {},
   "outputs": [],
   "source": [
    "df_final.to_excel(r'C:\\Users\\visan\\Downloads\\csv file.xlsx',index=False)"
   ]
  },
  {
   "cell_type": "code",
   "execution_count": null,
   "metadata": {},
   "outputs": [],
   "source": []
  }
 ],
 "metadata": {
  "kernelspec": {
   "display_name": "Python 3",
   "language": "python",
   "name": "python3"
  },
  "language_info": {
   "codemirror_mode": {
    "name": "ipython",
    "version": 3
   },
   "file_extension": ".py",
   "mimetype": "text/x-python",
   "name": "python",
   "nbconvert_exporter": "python",
   "pygments_lexer": "ipython3",
   "version": "3.7.1"
  }
 },
 "nbformat": 4,
 "nbformat_minor": 2
}
